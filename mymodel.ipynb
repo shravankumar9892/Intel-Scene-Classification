{
  "nbformat": 4,
  "nbformat_minor": 0,
  "metadata": {
    "colab": {
      "name": "mymodel.ipynb",
      "version": "0.3.2",
      "provenance": [],
      "collapsed_sections": []
    },
    "kernelspec": {
      "name": "python3",
      "display_name": "Python 3"
    },
    "accelerator": "GPU"
  },
  "cells": [
    {
      "metadata": {
        "id": "8EAtzLF34Aor",
        "colab_type": "text"
      },
      "cell_type": "markdown",
      "source": [
        "**[Colab Notebook](https://colab.research.google.com/drive/1lg2Z5DE8qt6EGc3cDO8oiTeSG-jrjtn0#scrollTo=8EAtzLF34Aor) for the same**"
      ]
    },
    {
      "metadata": {
        "id": "LkCyH61mhvPn",
        "colab_type": "code",
        "colab": {}
      },
      "cell_type": "code",
      "source": [
        "from google.colab import drive\n",
        "drive.mount('/content/drive')"
      ],
      "execution_count": 0,
      "outputs": []
    },
    {
      "metadata": {
        "id": "s8csBq0ePhXe",
        "colab_type": "code",
        "colab": {}
      },
      "cell_type": "code",
      "source": [
        "import torch\n",
        "import pandas as pd\n",
        "from torch import nn, optim\n",
        "import cv2\n",
        "from torchvision import datasets, transforms, models\n",
        "from torch.utils.data.sampler import SubsetRandomSampler\n",
        "\n",
        "def load_data(directory):\n",
        "    transform = transforms.Compose([transforms.Resize(224),\n",
        "                                       transforms.ToTensor(),\n",
        "                                       ])\n",
        "    train_data = datasets.ImageFolder(directory, transform=transform)\n",
        "    labels = pd.read_csv(directory + 'train.csv')\n",
        "\n",
        "    trainloader = torch.utils.data.DataLoader((train_data, labels), batch_size=64)\n",
        "\n",
        "    return trainloader\n",
        "  \n",
        "def imgtopix(directory):\n",
        "    class_ = os.listdir(directory)\n",
        "    pixels = []\n",
        "    labels = []\n",
        "    for label in class_:\n",
        "        images = os.listdir(directory+label+'/')\n",
        "        for image in images:\n",
        "          img = cv2.imread(directory+label+'/'+image)\n",
        "          img = cv2.resize(img, (224, 224))\n",
        "          img = cv2.cvtColor(img, cv2.COLOR_BGR2RGB)\n",
        "          pixels.append(torch.tensor(img.tolist()))\n",
        "          labels.append(labels)\n",
        "    dataframe = pd.DataFrame({'pixels': pixels, 'labels': labels})      \n",
        "    return dataframe\n",
        "# Training data directory\n",
        "LOCATION = '/content/drive/My Drive/ThingsToDo/Intel/data/train-data/'\n",
        "trainloader = load_data(LOCATION)\n",
        "\n",
        "# Pretrained Resnet model\n",
        "model = models.resnet50(pretrained=True)\n",
        "\n",
        "# Mentioning our device\n",
        "device = torch.device(\"cuda\" if torch.cuda.is_available() else \"cpu\")\n",
        "\n",
        "# Freezing layers from getting trained\n",
        "for param in model.parameters():\n",
        "    param.requires_grad = False\n",
        "\n",
        "# Modifying fully connected layers\n",
        "model.fc = nn.Sequential(nn.Linear(in_features=2048, out_features=512),\n",
        "                                 nn.ReLU(),\n",
        "                                 nn.Dropout(0.2),\n",
        "                                 nn.Linear(in_features=512, out_features=6),\n",
        "                                 nn.LogSoftmax(dim=1))\n",
        "criterion = nn.NLLLoss()\n",
        "optimizer = optim.Adam(model.fc.parameters(), lr=0.003)\n",
        "\n",
        "# Training the model starts\n",
        "epochs = 10\n",
        "steps = 20\n",
        "running_loss = 0\n",
        "print_every = 10\n",
        "train_losses, test_losses = [], []\n",
        "for epoch in range(epochs):\n",
        "    for inputs, labels in trainloader:\n",
        "        steps += 1\n",
        "\n",
        "        optimizer.zero_grad()\n",
        "        logps = model.forward(inputs)\n",
        "        loss = criterion(logps, labels)\n",
        "        loss.backward()\n",
        "        optimizer.step()\n",
        "        running_loss += loss.item()\n",
        "\n",
        "        if steps % print_every == 0:\n",
        "            test_loss = 0\n",
        "            accuracy = 0\n",
        "            model.eval()\n",
        "            with torch.no_grad():\n",
        "                for inputs, labels in validationloader:\n",
        "                    logps = model.forward(inputs)\n",
        "                    batch_loss = criterion(logps, labels)\n",
        "                    test_loss += batch_loss.item()\n",
        "\n",
        "                    ps = torch.exp(logps)\n",
        "                    top_p, top_class = ps.topk(1, dim=1)\n",
        "                    equals = top_class == labels.view(*top_class.shape)\n",
        "                    accuracy += torch.mean(equals.type(torch.FloatTensor)).item()\n",
        "            train_losses.append(running_loss / len(trainloader))\n",
        "            test_losses.append(test_loss / len(testloader))\n",
        "            print(f\"Epoch {epoch+1}/{epochs}.. \"\n",
        "                  f\"Train loss: {running_loss/print_every:.3f}.. \"\n",
        "                  f\"Test loss: {test_loss/len(testloader):.3f}.. \"\n",
        "                  f\"Test accuracy: {accuracy/len(testloader):.3f}\")\n",
        "            running_loss = 0\n",
        "            model.train()\n",
        "torch.save(model, 'model.pth')"
      ],
      "execution_count": 0,
      "outputs": []
    },
    {
      "metadata": {
        "id": "hQEIy6O7jfEP",
        "colab_type": "code",
        "colab": {
          "base_uri": "https://localhost:8080/",
          "height": 34
        },
        "outputId": "399b5012-ad76-4a2f-f0ec-adaa04759beb"
      },
      "cell_type": "code",
      "source": [
        "import os\n",
        "os.listdir('/content/drive/My Drive/ThingsToDo/Intel/data/train-data/')"
      ],
      "execution_count": 8,
      "outputs": [
        {
          "output_type": "execute_result",
          "data": {
            "text/plain": [
              "['train.csv', '0', '5', '2', '3', '1', '4']"
            ]
          },
          "metadata": {
            "tags": []
          },
          "execution_count": 8
        }
      ]
    },
    {
      "metadata": {
        "id": "p8jXb0EvmVdx",
        "colab_type": "code",
        "colab": {}
      },
      "cell_type": "code",
      "source": [
        "import pandas as pd\n",
        "df = pd.read_csv('/content/drive/My Drive/ThingsToDo/Intel/data/train-data/train.csv')"
      ],
      "execution_count": 0,
      "outputs": []
    }
  ]
}